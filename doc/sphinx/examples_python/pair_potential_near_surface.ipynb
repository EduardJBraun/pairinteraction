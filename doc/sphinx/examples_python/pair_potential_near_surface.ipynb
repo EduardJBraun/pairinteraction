{
 "cells": [
  {
   "cell_type": "markdown",
   "metadata": {},
   "source": [
    "# Rydberg Pair Potentials Near Surfaces"
   ]
  },
  {
   "cell_type": "markdown",
   "metadata": {},
   "source": [
    "This tutorial is based on results that were published by J. Block and S. Scheel, \"van der Waals interaction potential between Rydberg atoms near surfaces\" [Phys. Rev. A 96, 062509 (2017)](https://journals.aps.org/pra/abstract/10.1103/PhysRevA.96.062509). We will reproduce the pair potentials shown in Figure 4. The final result is that for states around the $|70p_{3/2};70p_{3/2}\\rangle$-asymptote of Rubidium the strength of the pair interaction is reduced when placing the atoms in front of a perfect mirror (perfectly conducting plate) compared to the vacuum interaction."
   ]
  },
  {
   "cell_type": "markdown",
   "metadata": {},
   "source": [
    "As described in the [introduction](https://pairinteraction.github.io/pairinteraction/sphinx/html/introduction.html), we start our code with some preparations and load the necessary modules."
   ]
  },
  {
   "cell_type": "code",
   "execution_count": 1,
   "metadata": {},
   "outputs": [],
   "source": [
    "%matplotlib inline\n",
    "\n",
    "# Arrays\n",
    "import numpy as np\n",
    "\n",
    "# Plotting\n",
    "import matplotlib.pyplot as plt\n",
    "from itertools import product\n",
    "\n",
    "# Operating system interfaces\n",
    "import os, sys\n",
    "\n",
    "# Parallel computing\n",
    "from multiprocessing import Pool\n",
    "\n",
    "# pairinteraction :-)\n",
    "from pairinteraction import pireal as pi\n",
    "\n",
    "# Create cache for matrix elements\n",
    "if not os.path.exists(\"./cache\"):\n",
    "    os.makedirs(\"./cache\")\n",
    "cache = pi.MatrixElementCache(\"./cache\")"
   ]
  },
  {
   "cell_type": "markdown",
   "metadata": {},
   "source": [
    "The plate lies in the $xy$-plane with the surface at $z = 0$. The atoms lie in the $xz$-plane with $z>0$.\n",
    "\n",
    "We can set the angle between the interatomic axis and the z-axis `theta` and the center of mass distance from the surface `distance_surface`. `distance_atom` defines the interatomic distances for which the pair potential is plotted. The units of the respective quantities are given as comments.\n",
    "\n",
    "Be careful: `theta = np.pi/2` corresponds to horizontal alignment of the two atoms with respect to the surface. For different angles, large interatomic distances `distance_atom` might lead to one of the atoms being placed inside the plate. Make sure that `distance_surface` is larger than `distance_atom*np.cos(theta)/2`. "
   ]
  },
  {
   "cell_type": "code",
   "execution_count": 2,
   "metadata": {},
   "outputs": [],
   "source": [
    "theta = np.pi / 2  # rad\n",
    "distance_atom = np.linspace(6, 1.5, 50)  # µm\n",
    "distance_surface = 1  # µm"
   ]
  },
  {
   "cell_type": "markdown",
   "metadata": {},
   "source": [
    "Next we define the state that we are interested in using pairinteraction's `StateOne` class . As shown in Figures 4 and 5 of [Phys. Rev. A 96, 062509 (2017)](https://journals.aps.org/pra/abstract/10.1103/PhysRevA.96.062509) we expect large changes for the $C_6$ coefficient of the $|69s_{1/2},m_j=1/2;72s_{1/2},m_j=1/2\\rangle$ pair state, so this provides a good example. \n",
    "\n",
    "We set up the one-atom system using restrictions of energy, main quantum number n and angular momentum l. This is done by means of the `restrict...` functions in `SystemOne`."
   ]
  },
  {
   "cell_type": "code",
   "execution_count": 3,
   "metadata": {},
   "outputs": [],
   "source": [
    "state_one1 = pi.StateOne(\"Rb\", 69, 0, 0.5, 0.5)\n",
    "state_one2 = pi.StateOne(\"Rb\", 72, 0, 0.5, 0.5)\n",
    "\n",
    "# Set up one-atom system\n",
    "system_one = pi.SystemOne(state_one1.getSpecies(), cache)\n",
    "system_one.restrictEnergy(\n",
    "    min(state_one1.getEnergy(), state_one2.getEnergy()) - 50,\n",
    "    max(state_one1.getEnergy(), state_one2.getEnergy()) + 50,\n",
    ")\n",
    "system_one.restrictN(\n",
    "    min(state_one1.getN(), state_one2.getN()) - 2,\n",
    "    max(state_one1.getN(), state_one2.getN()) + 2,\n",
    ")\n",
    "system_one.restrictL(\n",
    "    min(state_one1.getL(), state_one2.getL()) - 2,\n",
    "    max(state_one1.getL(), state_one2.getL()) + 2,\n",
    ")"
   ]
  },
  {
   "cell_type": "markdown",
   "metadata": {},
   "source": [
    "The pair state `state_two` is created from the one atom states `state_one1` and `state_one2` using the `StateTwo` class.\n",
    "\n",
    "From the previously set up system_one we define system_two using `SystemTwo` class. This class also contains methods `set..` to set angle, distance, surface distance and to `enableGreenTensor` in order implement a surface."
   ]
  },
  {
   "cell_type": "code",
   "execution_count": 4,
   "metadata": {
    "scrolled": true
   },
   "outputs": [],
   "source": [
    "# Set up pair state\n",
    "state_two = pi.StateTwo(state_one1, state_one2)\n",
    "\n",
    "\n",
    "# Set up two-atom system\n",
    "system_two = pi.SystemTwo(system_one, system_one, cache)\n",
    "system_two.restrictEnergy(state_two.getEnergy() - 5, state_two.getEnergy() + 5)\n",
    "\n",
    "system_two.setAngle(theta)\n",
    "system_two.enableGreenTensor(True)\n",
    "system_two.setDistance(distance_atom[0])\n",
    "system_two.setSurfaceDistance(distance_surface)\n",
    "system_two.buildInteraction()"
   ]
  },
  {
   "cell_type": "markdown",
   "metadata": {},
   "source": [
    "Next, we diagonalize the system for the given interatomic distances in distance_atom and compare the free space system to a system at `distance_surface` away from the perfect mirror. The energy is calculated with respect to a Rubidium $|70p_{3/2},m_j=3/2;70p_{3/2},m_j=3/2\\rangle$ two atom state, defined in `energyzero`."
   ]
  },
  {
   "cell_type": "code",
   "execution_count": 5,
   "metadata": {},
   "outputs": [],
   "source": [
    "# Diagonalize the two-atom system for different surface and interatomic distances\n",
    "def getDiagonalizedSystems(distances):\n",
    "    system_two.setSurfaceDistance(distances[0])\n",
    "    system_two.setDistance(distances[1])\n",
    "    system_two.diagonalize(1e-3)\n",
    "    return system_two.getHamiltonian().diagonal()\n",
    "\n",
    "\n",
    "if sys.platform != \"win32\":\n",
    "    with Pool() as pool:\n",
    "        energies = pool.map(\n",
    "            getDiagonalizedSystems, product([1e12, distance_surface], distance_atom)\n",
    "        )\n",
    "else:\n",
    "    energies = list(\n",
    "        map(getDiagonalizedSystems, product([1e12, distance_surface], distance_atom))\n",
    "    )\n",
    "\n",
    "energyzero = pi.StateTwo(\n",
    "    [\"Rb\", \"Rb\"], [70, 70], [1, 1], [1.5, 1.5], [1.5, 1.5]\n",
    ").getEnergy()\n",
    "y = np.array(energies).reshape(2, -1) - energyzero\n",
    "x = np.repeat(distance_atom, system_two.getNumBasisvectors())"
   ]
  },
  {
   "cell_type": "code",
   "execution_count": 6,
   "metadata": {},
   "outputs": [
    {
     "data": {
      "image/png": "[encoded data removed]",
      "text/plain": [
       "<matplotlib.figure.Figure at 0x10591fa90>"
      ]
     },
     "metadata": {},
     "output_type": "display_data"
    }
   ],
   "source": [
    "# Plot pair potentials\n",
    "fig = plt.figure()\n",
    "ax = fig.add_subplot(1, 1, 1)\n",
    "ax.set_xlabel(r\"Distance ($\\mu m$)\")\n",
    "ax.set_ylabel(r\"Energy (GHz)\")\n",
    "ax.set_xlim(np.min(distance_atom), np.max(distance_atom))\n",
    "ax.set_ylim(-3, -1.6)\n",
    "ax.plot(x, y[0], \"ko\", ms=3, label=\"free space\")\n",
    "ax.plot(x, y[1], \"ro\", ms=3, label=\"perfect mirror\")\n",
    "ax.legend();"
   ]
  }
 ],
 "metadata": {
  "kernelspec": {
   "display_name": "Python 3",
   "language": "python",
   "name": "python3"
  },
  "language_info": {
   "codemirror_mode": {
    "name": "ipython",
    "version": 3
   },
   "file_extension": ".py",
   "mimetype": "text/x-python",
   "name": "python",
   "nbconvert_exporter": "python",
   "pygments_lexer": "ipython3",
   "version": "3.6.5"
  }
 },
 "nbformat": 4,
 "nbformat_minor": 1
}
